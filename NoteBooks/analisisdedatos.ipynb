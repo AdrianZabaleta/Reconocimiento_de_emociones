{
 "cells": [
  {
   "cell_type": "code",
   "execution_count": 1,
   "metadata": {},
   "outputs": [],
   "source": [
    "import pandas as pd"
   ]
  },
  {
   "cell_type": "markdown",
   "metadata": {},
   "source": [
    "Análisis de id_visitante-ticket"
   ]
  },
  {
   "cell_type": "code",
   "execution_count": 3,
   "metadata": {},
   "outputs": [],
   "source": [
    "df_ticket=pd.read_csv(\"/Users/h.adrianzabaletahernandez/Desktop/ReconocimientoDeEmociones/Archivos CSV/ticket.csv\")"
   ]
  },
  {
   "cell_type": "code",
   "execution_count": 41,
   "metadata": {},
   "outputs": [
    {
     "data": {
      "text/plain": [
       "pandas.core.frame.DataFrame"
      ]
     },
     "execution_count": 41,
     "metadata": {},
     "output_type": "execute_result"
    }
   ],
   "source": [
    "type(df_ticket)"
   ]
  },
  {
   "cell_type": "code",
   "execution_count": null,
   "metadata": {},
   "outputs": [],
   "source": [
    "df_sin_id.head(20)"
   ]
  },
  {
   "cell_type": "code",
   "execution_count": 31,
   "metadata": {},
   "outputs": [
    {
     "data": {
      "text/plain": [
       "t_id                     object\n",
       "tipo_entrada             object\n",
       "coste                   float64\n",
       "antelacion_de_compra      int64\n",
       "dtype: object"
      ]
     },
     "execution_count": 31,
     "metadata": {},
     "output_type": "execute_result"
    }
   ],
   "source": [
    "df_sin_id=df_ticket.drop(columns=['id_visitante'])\n",
    "df_sin_id.dtypes"
   ]
  },
  {
   "cell_type": "code",
   "execution_count": 26,
   "metadata": {},
   "outputs": [
    {
     "data": {
      "text/html": [
       "<div>\n",
       "<style scoped>\n",
       "    .dataframe tbody tr th:only-of-type {\n",
       "        vertical-align: middle;\n",
       "    }\n",
       "\n",
       "    .dataframe tbody tr th {\n",
       "        vertical-align: top;\n",
       "    }\n",
       "\n",
       "    .dataframe thead th {\n",
       "        text-align: right;\n",
       "    }\n",
       "</style>\n",
       "<table border=\"1\" class=\"dataframe\">\n",
       "  <thead>\n",
       "    <tr style=\"text-align: right;\">\n",
       "      <th></th>\n",
       "      <th>t_id</th>\n",
       "      <th>coste</th>\n",
       "      <th>antelacion_de_compra</th>\n",
       "    </tr>\n",
       "    <tr>\n",
       "      <th>tipo_entrada</th>\n",
       "      <th></th>\n",
       "      <th></th>\n",
       "      <th></th>\n",
       "    </tr>\n",
       "  </thead>\n",
       "  <tbody>\n",
       "    <tr>\n",
       "      <th>Entrada Familiar</th>\n",
       "      <td>5981</td>\n",
       "      <td>5981</td>\n",
       "      <td>5981</td>\n",
       "    </tr>\n",
       "    <tr>\n",
       "      <th>Entrada Individual</th>\n",
       "      <td>5978</td>\n",
       "      <td>5978</td>\n",
       "      <td>5978</td>\n",
       "    </tr>\n",
       "    <tr>\n",
       "      <th>Entrada Infantil</th>\n",
       "      <td>5980</td>\n",
       "      <td>5980</td>\n",
       "      <td>5980</td>\n",
       "    </tr>\n",
       "    <tr>\n",
       "      <th>Paquete VIP</th>\n",
       "      <td>5978</td>\n",
       "      <td>5978</td>\n",
       "      <td>5978</td>\n",
       "    </tr>\n",
       "    <tr>\n",
       "      <th>Pase Anual</th>\n",
       "      <td>5984</td>\n",
       "      <td>5984</td>\n",
       "      <td>5984</td>\n",
       "    </tr>\n",
       "    <tr>\n",
       "      <th>Pase Rápido</th>\n",
       "      <td>5986</td>\n",
       "      <td>5986</td>\n",
       "      <td>5986</td>\n",
       "    </tr>\n",
       "  </tbody>\n",
       "</table>\n",
       "</div>"
      ],
      "text/plain": [
       "                    t_id  coste  antelacion_de_compra\n",
       "tipo_entrada                                         \n",
       "Entrada Familiar    5981   5981                  5981\n",
       "Entrada Individual  5978   5978                  5978\n",
       "Entrada Infantil    5980   5980                  5980\n",
       "Paquete VIP         5978   5978                  5978\n",
       "Pase Anual          5984   5984                  5984\n",
       "Pase Rápido         5986   5986                  5986"
      ]
     },
     "execution_count": 26,
     "metadata": {},
     "output_type": "execute_result"
    }
   ],
   "source": [
    "df_sin_id.groupby(['tipo_entrada']).count()\n"
   ]
  },
  {
   "cell_type": "code",
   "execution_count": null,
   "metadata": {},
   "outputs": [],
   "source": [
    "# las entradas fast-pass se venden como máximo con 3 días de anticipación\n",
    "#Establecemos la condición y elimanmos las filas que la cumplan con drop() y el índice \n",
    "df_sin_id= df_sin_id.drop(df_sin_id[((df_sin_id['tipo_entrada']=='Pase Rápido')& (df_sin_id['antelacion_de_compra']>3))].index)\n",
    "df_sin_id.head(20)"
   ]
  },
  {
   "cell_type": "code",
   "execution_count": 47,
   "metadata": {},
   "outputs": [
    {
     "name": "stdout",
     "output_type": "stream",
     "text": [
      "Empty DataFrame\n",
      "Columns: [t_id, tipo_entrada, coste, antelacion_de_compra]\n",
      "Index: []\n"
     ]
    }
   ],
   "source": [
    "#Aquí va el código de encontrar duplicados y nulos\n",
    "df_ticket_duplicados=df_sin_id.duplicated(keep=False)\n",
    "print(df_sin_id[df_ticket_duplicados])\n"
   ]
  },
  {
   "cell_type": "code",
   "execution_count": 50,
   "metadata": {},
   "outputs": [
    {
     "data": {
      "text/plain": [
       "t_id                    0\n",
       "tipo_entrada            0\n",
       "coste                   0\n",
       "antelacion_de_compra    0\n",
       "dtype: int64"
      ]
     },
     "execution_count": 50,
     "metadata": {},
     "output_type": "execute_result"
    }
   ],
   "source": [
    "df_sin_id.isnull().sum()"
   ]
  },
  {
   "cell_type": "code",
   "execution_count": 66,
   "metadata": {},
   "outputs": [
    {
     "data": {
      "text/plain": [
       "t_id                    0\n",
       "tipo_entrada            0\n",
       "coste                   0\n",
       "antelacion_de_compra    0\n",
       "dtype: int64"
      ]
     },
     "execution_count": 66,
     "metadata": {},
     "output_type": "execute_result"
    }
   ],
   "source": [
    "df_sin_id.isna().sum()"
   ]
  }
 ],
 "metadata": {
  "kernelspec": {
   "display_name": "Python 3",
   "language": "python",
   "name": "python3"
  },
  "language_info": {
   "codemirror_mode": {
    "name": "ipython",
    "version": 3
   },
   "file_extension": ".py",
   "mimetype": "text/x-python",
   "name": "python",
   "nbconvert_exporter": "python",
   "pygments_lexer": "ipython3",
   "version": "3.12.1"
  }
 },
 "nbformat": 4,
 "nbformat_minor": 2
}
