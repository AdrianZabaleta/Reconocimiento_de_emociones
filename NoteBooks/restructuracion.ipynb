{
  "cells": [
    {
      "cell_type": "code",
      "execution_count": 3,
      "metadata": {
        "id": "DXzkjs7YC1fs"
      },
      "outputs": [],
      "source": [
        "import pandas as pd\n",
        "import json\n",
        "import csv\n"
      ]
    },
    {
      "cell_type": "markdown",
      "metadata": {
        "id": "EJysMk9KLhS9"
      },
      "source": [
        "#Archivo id_vistante-procedencia"
      ]
    },
    {
      "cell_type": "markdown",
      "metadata": {
        "id": "D6i1LJ3TB_Ms"
      },
      "source": [
        "Estructura de los datos:\n",
        "\n",
        "{str: }\n",
        "\n",
        "{str:\n",
        "\n",
        " [\n",
        "\n",
        " ]\n",
        "\n",
        "}\n",
        "\n",
        "{str:\n",
        "\n",
        "[\n",
        "\n",
        " {\n",
        "  \"t_id\": str,\n",
        "  \"procedencia\": \"\"\n",
        " }\n",
        "]\n",
        "\n",
        "}\n",
        "\n",
        "A lo que queremos llegar\n",
        "\n",
        "resultado={'id_vistante':[],'t_id':[],'procedencia':[]}\n",
        "\n",
        "Tenemos un diccionario cuya claves son strings.\n",
        "\n",
        "El valor del diciconario son listas de diccionarios.\n",
        "\n",
        "Los dicioanrios a su vez tienen dos claves: t_id, procedencia.\n"
      ]
    },
    {
      "cell_type": "code",
      "execution_count": 4,
      "metadata": {
        "id": "whxR_FXgqMt-"
      },
      "outputs": [],
      "source": [
        "#Cargo el json\n",
        "with open ('/Users/h.adrianzabaletahernandez/Desktop/ReconocimientoDeEmociones/data/id_visitante-procedencia.json') as f:\n",
        "    data_procedencia= json.load(f)"
      ]
    },
    {
      "cell_type": "code",
      "execution_count": 5,
      "metadata": {
        "id": "dQhptUOm7k0X"
      },
      "outputs": [],
      "source": [
        "#El for modificado y adaptado a nuestros archivos.\n",
        "procedencia={'id_visitante':[],'t_id':[],'procedencia':[]}\n",
        "for id_visitante in data_procedencia:\n",
        "  for diccionario in data_procedencia[id_visitante]:\n",
        "    procedencia['id_visitante'].append(id_visitante)\n",
        "    procedencia['t_id'].append(diccionario['t_id'])\n",
        "    procedencia['procedencia'].append(diccionario['procedencia'])\n"
      ]
    },
    {
      "cell_type": "code",
      "execution_count": 6,
      "metadata": {
        "id": "5GTvWUE_J1Cw"
      },
      "outputs": [],
      "source": [
        "df_procedencia=pd.DataFrame(procedencia)"
      ]
    },
    {
      "cell_type": "code",
      "execution_count": 7,
      "metadata": {},
      "outputs": [],
      "source": [
        "df_procedencia.to_csv('procedencia.csv', index=False)"
      ]
    },
    {
      "cell_type": "code",
      "execution_count": 5,
      "metadata": {
        "colab": {
          "base_uri": "https://localhost:8080/",
          "height": 423
        },
        "id": "r11MnE_f729v",
        "outputId": "1875ec2c-37da-405c-c1de-a7d1a541ff55"
      },
      "outputs": [
        {
          "data": {
            "text/html": [
              "<div>\n",
              "<style scoped>\n",
              "    .dataframe tbody tr th:only-of-type {\n",
              "        vertical-align: middle;\n",
              "    }\n",
              "\n",
              "    .dataframe tbody tr th {\n",
              "        vertical-align: top;\n",
              "    }\n",
              "\n",
              "    .dataframe thead th {\n",
              "        text-align: right;\n",
              "    }\n",
              "</style>\n",
              "<table border=\"1\" class=\"dataframe\">\n",
              "  <thead>\n",
              "    <tr style=\"text-align: right;\">\n",
              "      <th></th>\n",
              "      <th>id_visitante</th>\n",
              "      <th>t_id</th>\n",
              "      <th>procedencia</th>\n",
              "    </tr>\n",
              "  </thead>\n",
              "  <tbody>\n",
              "    <tr>\n",
              "      <th>0</th>\n",
              "      <td>3</td>\n",
              "      <td>Training_10118481.jpg</td>\n",
              "      <td>Filipinas</td>\n",
              "    </tr>\n",
              "    <tr>\n",
              "      <th>1</th>\n",
              "      <td>3</td>\n",
              "      <td>Training_15361067.jpg</td>\n",
              "      <td>España</td>\n",
              "    </tr>\n",
              "    <tr>\n",
              "      <th>2</th>\n",
              "      <td>3</td>\n",
              "      <td>Training_16232328.jpg</td>\n",
              "      <td>Puerto Rico</td>\n",
              "    </tr>\n",
              "    <tr>\n",
              "      <th>3</th>\n",
              "      <td>3</td>\n",
              "      <td>Training_27705571.jpg</td>\n",
              "      <td>Paraguay</td>\n",
              "    </tr>\n",
              "    <tr>\n",
              "      <th>4</th>\n",
              "      <td>3</td>\n",
              "      <td>Training_63766171.jpg</td>\n",
              "      <td>Argentina</td>\n",
              "    </tr>\n",
              "    <tr>\n",
              "      <th>...</th>\n",
              "      <td>...</td>\n",
              "      <td>...</td>\n",
              "      <td>...</td>\n",
              "    </tr>\n",
              "    <tr>\n",
              "      <th>35882</th>\n",
              "      <td>1783</td>\n",
              "      <td>PublicTest_2529039.jpg</td>\n",
              "      <td>España</td>\n",
              "    </tr>\n",
              "    <tr>\n",
              "      <th>35883</th>\n",
              "      <td>1784</td>\n",
              "      <td>PublicTest_27916929.jpg</td>\n",
              "      <td>Filipinas</td>\n",
              "    </tr>\n",
              "    <tr>\n",
              "      <th>35884</th>\n",
              "      <td>1785</td>\n",
              "      <td>PublicTest_64107181.jpg</td>\n",
              "      <td>Alemania</td>\n",
              "    </tr>\n",
              "    <tr>\n",
              "      <th>35885</th>\n",
              "      <td>1786</td>\n",
              "      <td>PublicTest_81098275.jpg</td>\n",
              "      <td>Filipinas</td>\n",
              "    </tr>\n",
              "    <tr>\n",
              "      <th>35886</th>\n",
              "      <td>1787</td>\n",
              "      <td>PublicTest_94828377.jpg</td>\n",
              "      <td>Francia</td>\n",
              "    </tr>\n",
              "  </tbody>\n",
              "</table>\n",
              "<p>35887 rows × 3 columns</p>\n",
              "</div>"
            ],
            "text/plain": [
              "      id_visitante                     t_id  procedencia\n",
              "0                3    Training_10118481.jpg    Filipinas\n",
              "1                3    Training_15361067.jpg       España\n",
              "2                3    Training_16232328.jpg  Puerto Rico\n",
              "3                3    Training_27705571.jpg     Paraguay\n",
              "4                3    Training_63766171.jpg    Argentina\n",
              "...            ...                      ...          ...\n",
              "35882         1783   PublicTest_2529039.jpg       España\n",
              "35883         1784  PublicTest_27916929.jpg    Filipinas\n",
              "35884         1785  PublicTest_64107181.jpg     Alemania\n",
              "35885         1786  PublicTest_81098275.jpg    Filipinas\n",
              "35886         1787  PublicTest_94828377.jpg      Francia\n",
              "\n",
              "[35887 rows x 3 columns]"
            ]
          },
          "execution_count": 5,
          "metadata": {},
          "output_type": "execute_result"
        }
      ],
      "source": [
        "df_procedencia"
      ]
    },
    {
      "cell_type": "code",
      "execution_count": 6,
      "metadata": {
        "colab": {
          "base_uri": "https://localhost:8080/"
        },
        "id": "Rhq-l2AoT53s",
        "outputId": "de9e5aaf-57c1-4bff-b864-b59effa6e3bf"
      },
      "outputs": [
        {
          "data": {
            "text/plain": [
              "id_visitante    object\n",
              "t_id            object\n",
              "procedencia     object\n",
              "dtype: object"
            ]
          },
          "execution_count": 6,
          "metadata": {},
          "output_type": "execute_result"
        }
      ],
      "source": [
        "df_procedencia.shape\n",
        "df_procedencia.isnull().sum()\n",
        "df_procedencia.dtypes"
      ]
    },
    {
      "cell_type": "markdown",
      "metadata": {
        "id": "uioqQWbRIxBn"
      },
      "source": [
        "#Archivo id_visitante-duracion"
      ]
    },
    {
      "cell_type": "code",
      "execution_count": 8,
      "metadata": {
        "id": "UGsnBppiyup6"
      },
      "outputs": [],
      "source": [
        "#lo abrimos\n",
        "with open ('/Users/h.adrianzabaletahernandez/Desktop/ReconocimientoDeEmociones/data/id_visitante-duracion.json') as f:\n",
        "    data_duracion= json.load(f)"
      ]
    },
    {
      "cell_type": "code",
      "execution_count": 9,
      "metadata": {
        "id": "sLvxX6qk8qMB"
      },
      "outputs": [],
      "source": [
        "duracion={'id_visitante':[],'t_id':[],'duracion':[]}\n",
        "\n",
        "for id_visitante in data_duracion:\n",
        "  for diccionario in data_duracion[id_visitante]:\n",
        "    duracion['id_visitante'].append(id_visitante)\n",
        "    duracion['t_id'].append(diccionario['t_id'])\n",
        "    duracion['duracion'].append(diccionario['duracion'])"
      ]
    },
    {
      "cell_type": "code",
      "execution_count": 10,
      "metadata": {
        "id": "GYTXk3fU_1V-"
      },
      "outputs": [],
      "source": [
        "df_duracion=pd.DataFrame(duracion)"
      ]
    },
    {
      "cell_type": "code",
      "execution_count": 11,
      "metadata": {},
      "outputs": [],
      "source": [
        "df_duracion.to_csv('duracion.csv', index=False)"
      ]
    },
    {
      "cell_type": "code",
      "execution_count": 10,
      "metadata": {
        "id": "Ukx4gkQC_8k-"
      },
      "outputs": [
        {
          "data": {
            "text/html": [
              "<div>\n",
              "<style scoped>\n",
              "    .dataframe tbody tr th:only-of-type {\n",
              "        vertical-align: middle;\n",
              "    }\n",
              "\n",
              "    .dataframe tbody tr th {\n",
              "        vertical-align: top;\n",
              "    }\n",
              "\n",
              "    .dataframe thead th {\n",
              "        text-align: right;\n",
              "    }\n",
              "</style>\n",
              "<table border=\"1\" class=\"dataframe\">\n",
              "  <thead>\n",
              "    <tr style=\"text-align: right;\">\n",
              "      <th></th>\n",
              "      <th>id_visitante</th>\n",
              "      <th>t_id</th>\n",
              "      <th>duracion</th>\n",
              "    </tr>\n",
              "  </thead>\n",
              "  <tbody>\n",
              "    <tr>\n",
              "      <th>0</th>\n",
              "      <td>3</td>\n",
              "      <td>Training_10118481.jpg</td>\n",
              "      <td>308</td>\n",
              "    </tr>\n",
              "    <tr>\n",
              "      <th>1</th>\n",
              "      <td>3</td>\n",
              "      <td>Training_15361067.jpg</td>\n",
              "      <td>344</td>\n",
              "    </tr>\n",
              "    <tr>\n",
              "      <th>2</th>\n",
              "      <td>3</td>\n",
              "      <td>Training_16232328.jpg</td>\n",
              "      <td>161</td>\n",
              "    </tr>\n",
              "    <tr>\n",
              "      <th>3</th>\n",
              "      <td>3</td>\n",
              "      <td>Training_27705571.jpg</td>\n",
              "      <td>260</td>\n",
              "    </tr>\n",
              "    <tr>\n",
              "      <th>4</th>\n",
              "      <td>3</td>\n",
              "      <td>Training_63766171.jpg</td>\n",
              "      <td>169</td>\n",
              "    </tr>\n",
              "    <tr>\n",
              "      <th>...</th>\n",
              "      <td>...</td>\n",
              "      <td>...</td>\n",
              "      <td>...</td>\n",
              "    </tr>\n",
              "    <tr>\n",
              "      <th>35882</th>\n",
              "      <td>1783</td>\n",
              "      <td>PublicTest_2529039.jpg</td>\n",
              "      <td>419</td>\n",
              "    </tr>\n",
              "    <tr>\n",
              "      <th>35883</th>\n",
              "      <td>1784</td>\n",
              "      <td>PublicTest_27916929.jpg</td>\n",
              "      <td>206</td>\n",
              "    </tr>\n",
              "    <tr>\n",
              "      <th>35884</th>\n",
              "      <td>1785</td>\n",
              "      <td>PublicTest_64107181.jpg</td>\n",
              "      <td>368</td>\n",
              "    </tr>\n",
              "    <tr>\n",
              "      <th>35885</th>\n",
              "      <td>1786</td>\n",
              "      <td>PublicTest_81098275.jpg</td>\n",
              "      <td>425</td>\n",
              "    </tr>\n",
              "    <tr>\n",
              "      <th>35886</th>\n",
              "      <td>1787</td>\n",
              "      <td>PublicTest_94828377.jpg</td>\n",
              "      <td>464</td>\n",
              "    </tr>\n",
              "  </tbody>\n",
              "</table>\n",
              "<p>35887 rows × 3 columns</p>\n",
              "</div>"
            ],
            "text/plain": [
              "      id_visitante                     t_id  duracion\n",
              "0                3    Training_10118481.jpg       308\n",
              "1                3    Training_15361067.jpg       344\n",
              "2                3    Training_16232328.jpg       161\n",
              "3                3    Training_27705571.jpg       260\n",
              "4                3    Training_63766171.jpg       169\n",
              "...            ...                      ...       ...\n",
              "35882         1783   PublicTest_2529039.jpg       419\n",
              "35883         1784  PublicTest_27916929.jpg       206\n",
              "35884         1785  PublicTest_64107181.jpg       368\n",
              "35885         1786  PublicTest_81098275.jpg       425\n",
              "35886         1787  PublicTest_94828377.jpg       464\n",
              "\n",
              "[35887 rows x 3 columns]"
            ]
          },
          "execution_count": 10,
          "metadata": {},
          "output_type": "execute_result"
        }
      ],
      "source": [
        "df_duracion"
      ]
    },
    {
      "cell_type": "code",
      "execution_count": 11,
      "metadata": {
        "colab": {
          "base_uri": "https://localhost:8080/"
        },
        "id": "AeiIpAEvAAmP",
        "outputId": "28dd733c-e7ee-4d47-e499-13d50ddbe906"
      },
      "outputs": [
        {
          "data": {
            "text/plain": [
              "id_visitante    0\n",
              "t_id            0\n",
              "duracion        0\n",
              "dtype: int64"
            ]
          },
          "execution_count": 11,
          "metadata": {},
          "output_type": "execute_result"
        }
      ],
      "source": [
        "df_duracion.isna().sum()\n",
        "#df_duracion.nunique()\n",
        "#cuántas veces se repiten las fotos?, son de la misma persona?"
      ]
    },
    {
      "cell_type": "markdown",
      "metadata": {
        "id": "KJuSgoICKzU3"
      },
      "source": [
        "#Archivo id_visitante-ticket"
      ]
    },
    {
      "cell_type": "markdown",
      "metadata": {
        "id": "z-p_glF4SdaR"
      },
      "source": [
        "Estrutura de nuestro json:\n",
        "\n",
        "{\"3\": [{\"t_id\": \"Training_10118481.jpg\", \"tipo_entrada\": \"Pase Anual\", \"coste\": 14.003708207777139, \"antelacion_de_compra\": 0}"
      ]
    },
    {
      "cell_type": "code",
      "execution_count": 12,
      "metadata": {
        "id": "bYJo2Vrg06WH"
      },
      "outputs": [],
      "source": [
        "#Abrimos el json\n",
        "with open ('/Users/h.adrianzabaletahernandez/Desktop/ReconocimientoDeEmociones/data/id_visitante-ticket.json') as f:\n",
        "    data_ticket= json.load(f)"
      ]
    },
    {
      "cell_type": "code",
      "execution_count": 13,
      "metadata": {
        "id": "jon4kVhXS4yl"
      },
      "outputs": [],
      "source": [
        "ticket={'id_visitante':[],'t_id':[],'tipo_entrada':[],'coste':[],'antelacion_de_compra':[]}\n",
        "\n",
        "for id_visitante in data_ticket:\n",
        "  for diccionario in data_ticket[id_visitante]:\n",
        "    ticket['id_visitante'].append(id_visitante)\n",
        "    ticket['t_id'].append(diccionario['t_id'])\n",
        "    ticket['tipo_entrada'].append(diccionario['tipo_entrada'])\n",
        "    ticket['coste'].append(round((diccionario['coste']),2))\n",
        "    ticket['antelacion_de_compra'].append(diccionario['antelacion_de_compra'])"
      ]
    },
    {
      "cell_type": "code",
      "execution_count": 14,
      "metadata": {
        "id": "Y1icZYDgXaQE"
      },
      "outputs": [],
      "source": [
        "df_ticket=pd.DataFrame(ticket)"
      ]
    },
    {
      "cell_type": "code",
      "execution_count": 15,
      "metadata": {},
      "outputs": [],
      "source": [
        "df_ticket.to_csv('ticket.csv', index=False)"
      ]
    },
    {
      "cell_type": "code",
      "execution_count": 15,
      "metadata": {
        "colab": {
          "base_uri": "https://localhost:8080/"
        },
        "id": "83kDOV6AXiWR",
        "outputId": "cf596abd-203b-45ac-add7-80ded7430452"
      },
      "outputs": [
        {
          "data": {
            "text/plain": [
              "id_visitante            0\n",
              "t_id                    0\n",
              "tipo_entrada            0\n",
              "coste                   0\n",
              "antelacion_de_compra    0\n",
              "dtype: int64"
            ]
          },
          "execution_count": 15,
          "metadata": {},
          "output_type": "execute_result"
        }
      ],
      "source": [
        "df_ticket.isna().sum()\n",
        "#df_ticket.dtypes\n",
        "#df_ticket.nunique()"
      ]
    },
    {
      "cell_type": "markdown",
      "metadata": {
        "id": "0IzFJe7YLFcr"
      },
      "source": [
        "#Archivo id_vistante-atracciones"
      ]
    },
    {
      "cell_type": "code",
      "execution_count": 16,
      "metadata": {
        "id": "s6nezefJ2BGJ"
      },
      "outputs": [],
      "source": [
        "#lo abrimos\n",
        "with open ('/Users/h.adrianzabaletahernandez/Desktop/ReconocimientoDeEmociones/data/id_visitante-atracciones.json') as f:\n",
        "    data_atracciones= json.load(f)"
      ]
    },
    {
      "cell_type": "markdown",
      "metadata": {
        "id": "UPZGi7IDZOSK"
      },
      "source": [
        "Estrutura del archivo:\n",
        "\n",
        "{\"3\": [{\"t_id\": \"Training_10118481.jpg\", \"atraccion\": \"Monta\\u00f1a Rusa de la Luna\", \"comienzo_atraccion\": 291, \"tiempo_de_espera\": 5}"
      ]
    },
    {
      "cell_type": "code",
      "execution_count": 17,
      "metadata": {
        "id": "qHQkbJtZZsd0"
      },
      "outputs": [],
      "source": [
        "atracciones={'id_visitante':[],'t_id':[],'atraccion':[],'comienzo_atraccion':[],'tiempo_de_espera':[]}\n",
        "\n",
        "for id_visitante in data_atracciones:\n",
        "  for diccionario in data_atracciones[id_visitante]:\n",
        "    atracciones['id_visitante'].append(id_visitante)\n",
        "    atracciones['t_id'].append(diccionario['t_id'])\n",
        "    atracciones['atraccion'].append(diccionario['atraccion'])\n",
        "    atracciones['comienzo_atraccion'].append(diccionario['comienzo_atraccion'])#hay que convertir estos datos a enteros, el problema es que hay nulos, se puede hacer mediante: to_numeric y  errors='coerce' y luego astype('Int64') o, rellenar los nulos sustituyéndolos por ceros y luego el astype(int)\n",
        "    atracciones['tiempo_de_espera'].append(diccionario['tiempo_de_espera'])\n"
      ]
    },
    {
      "cell_type": "code",
      "execution_count": 18,
      "metadata": {
        "id": "wump6hHxcDbf"
      },
      "outputs": [],
      "source": [
        "df_atracciones=pd.DataFrame(atracciones)"
      ]
    },
    {
      "cell_type": "code",
      "execution_count": 19,
      "metadata": {
        "colab": {
          "base_uri": "https://localhost:8080/",
          "height": 423
        },
        "id": "nWLqqsXViUCj",
        "outputId": "bd10e968-cecf-43ad-9260-c53bc02e4af4"
      },
      "outputs": [
        {
          "data": {
            "text/plain": [
              "id_visitante           object\n",
              "t_id                   object\n",
              "atraccion              object\n",
              "comienzo_atraccion    float64\n",
              "tiempo_de_espera        int64\n",
              "dtype: object"
            ]
          },
          "execution_count": 19,
          "metadata": {},
          "output_type": "execute_result"
        }
      ],
      "source": [
        "df_atracciones.dtypes"
      ]
    },
    {
      "cell_type": "code",
      "execution_count": 20,
      "metadata": {},
      "outputs": [],
      "source": [
        "#hay que convertir comienzo_atracción a enteros, el problema es que hay nulos, \n",
        "#se puede hacer mediante: to_numeric y  errors='coerce' y luego astype('Int64') o, \n",
        "#rellenar los nulos sustituyéndolos por ceros y luego el astype(int)\n",
        "df_atracciones['comienzo_atraccion']=pd.to_numeric(df_atracciones['comienzo_atraccion'], errors='coerce').astype('Int64')"
      ]
    },
    {
      "cell_type": "code",
      "execution_count": 21,
      "metadata": {},
      "outputs": [],
      "source": [
        "df_atracciones.to_csv('atracciones.csv', index=False)"
      ]
    },
    {
      "cell_type": "code",
      "execution_count": 21,
      "metadata": {},
      "outputs": [
        {
          "data": {
            "text/plain": [
              "id_visitante          object\n",
              "t_id                  object\n",
              "atraccion             object\n",
              "comienzo_atraccion     Int64\n",
              "tiempo_de_espera       int64\n",
              "dtype: object"
            ]
          },
          "execution_count": 21,
          "metadata": {},
          "output_type": "execute_result"
        }
      ],
      "source": [
        "df_atracciones.dtypes"
      ]
    },
    {
      "cell_type": "code",
      "execution_count": 22,
      "metadata": {
        "colab": {
          "base_uri": "https://localhost:8080/"
        },
        "id": "zRAfoPmKcNIA",
        "outputId": "acc46e40-349a-48d8-c276-bd79ef9e5d07"
      },
      "outputs": [
        {
          "data": {
            "text/plain": [
              "id_visitante             0\n",
              "t_id                     0\n",
              "atraccion             1138\n",
              "comienzo_atraccion      96\n",
              "tiempo_de_espera         0\n",
              "dtype: int64"
            ]
          },
          "execution_count": 22,
          "metadata": {},
          "output_type": "execute_result"
        }
      ],
      "source": [
        "df_atracciones.isnull().sum()\n",
        "#hay demasiados nulos en el nombre de la atracción\n"
      ]
    },
    {
      "cell_type": "code",
      "execution_count": 23,
      "metadata": {},
      "outputs": [
        {
          "data": {
            "text/plain": [
              "id_visitante           1787\n",
              "t_id                  35885\n",
              "atraccion                35\n",
              "comienzo_atraccion      719\n",
              "tiempo_de_espera         32\n",
              "dtype: int64"
            ]
          },
          "execution_count": 23,
          "metadata": {},
          "output_type": "execute_result"
        }
      ],
      "source": [
        "df_atracciones.nunique()"
      ]
    },
    {
      "cell_type": "code",
      "execution_count": 24,
      "metadata": {},
      "outputs": [
        {
          "name": "stdout",
          "output_type": "stream",
          "text": [
            "<class 'pandas.core.frame.DataFrame'>\n",
            "RangeIndex: 35887 entries, 0 to 35886\n",
            "Data columns (total 5 columns):\n",
            " #   Column              Non-Null Count  Dtype \n",
            "---  ------              --------------  ----- \n",
            " 0   id_visitante        35887 non-null  object\n",
            " 1   t_id                35887 non-null  object\n",
            " 2   atraccion           34749 non-null  object\n",
            " 3   comienzo_atraccion  35791 non-null  Int64 \n",
            " 4   tiempo_de_espera    35887 non-null  int64 \n",
            "dtypes: Int64(1), int64(1), object(3)\n",
            "memory usage: 1.4+ MB\n"
          ]
        }
      ],
      "source": [
        "df_atracciones.info()"
      ]
    },
    {
      "cell_type": "code",
      "execution_count": 25,
      "metadata": {
        "id": "E2VjLutAi8wE"
      },
      "outputs": [],
      "source": [
        "#Hay que calcular el porcentaje de nulos"
      ]
    },
    {
      "cell_type": "code",
      "execution_count": 26,
      "metadata": {
        "colab": {
          "base_uri": "https://localhost:8080/"
        },
        "id": "IEk-d3WAgvep",
        "outputId": "205d0e59-d246-4c32-b52c-76fbcac5e06e"
      },
      "outputs": [
        {
          "data": {
            "text/plain": [
              "35"
            ]
          },
          "execution_count": 26,
          "metadata": {},
          "output_type": "execute_result"
        }
      ],
      "source": [
        "df_atracciones['atraccion'].nunique()# El parque tiene 35 atracciones"
      ]
    },
    {
      "cell_type": "code",
      "execution_count": 27,
      "metadata": {},
      "outputs": [
        {
          "data": {
            "text/plain": [
              "atraccion\n",
              "Vuelta al Mundo en 80 Días      1041\n",
              "Circus Fantástico               1027\n",
              "Aventuras Acuáticas             1021\n",
              "Mansión Embrujada               1017\n",
              "Montaña Rusa de la Luna         1016\n",
              "Rueda de la Fortuna             1014\n",
              "Carros Chocones Divertidos      1010\n",
              "Fiesta de los Dulces            1008\n",
              "Rápido del Trueno               1008\n",
              "Mundo de las Maravillas         1007\n",
              "Vuelo Mágico                    1003\n",
              "Tirolina Extrema                1002\n",
              "Jardín de las Hadas              997\n",
              "Araña Saltarina                  995\n",
              "Tobogán del Arco Iris            994\n",
              "Cúpula Estelar                   992\n",
              "Carrera de Autos Locos           991\n",
              "Laberinto de Sueños              989\n",
              "Tren del Terror                  989\n",
              "Barco Pirata Misterioso          988\n",
              "Circuito Veloz                   984\n",
              "Dragón Volador                   984\n",
              "Cohetes Galácticos               982\n",
              "Cine 4D Emocionante              982\n",
              "Safari Salvaje                   981\n",
              "Torbellino Espacial              979\n",
              "Simulador Espacial 3D            978\n",
              "Caravana de Aventuras            977\n",
              "Montaña del Misterio             977\n",
              "Gran Caída Libre                 976\n",
              "Selva Encantada                  973\n",
              "Espejos de la Risueña            972\n",
              "Cascada Encantada                969\n",
              "Viaje al Centro de la Tierra     968\n",
              "Carrusel Encantado               958\n",
              "Name: count, dtype: int64"
            ]
          },
          "execution_count": 27,
          "metadata": {},
          "output_type": "execute_result"
        }
      ],
      "source": [
        "df_atracciones['atraccion'].value_counts()"
      ]
    },
    {
      "cell_type": "code",
      "execution_count": 22,
      "metadata": {
        "colab": {
          "base_uri": "https://localhost:8080/",
          "height": 423
        },
        "id": "QPYut4MxdiRK",
        "outputId": "466f4f2c-1f46-41cd-9d76-6ccf2cf810f2"
      },
      "outputs": [
        {
          "data": {
            "text/html": [
              "<div>\n",
              "<style scoped>\n",
              "    .dataframe tbody tr th:only-of-type {\n",
              "        vertical-align: middle;\n",
              "    }\n",
              "\n",
              "    .dataframe tbody tr th {\n",
              "        vertical-align: top;\n",
              "    }\n",
              "\n",
              "    .dataframe thead th {\n",
              "        text-align: right;\n",
              "    }\n",
              "</style>\n",
              "<table border=\"1\" class=\"dataframe\">\n",
              "  <thead>\n",
              "    <tr style=\"text-align: right;\">\n",
              "      <th></th>\n",
              "      <th>id_visitante</th>\n",
              "      <th>t_id</th>\n",
              "      <th>atraccion</th>\n",
              "      <th>comienzo_atraccion</th>\n",
              "      <th>tiempo_de_espera</th>\n",
              "    </tr>\n",
              "  </thead>\n",
              "  <tbody>\n",
              "    <tr>\n",
              "      <th>56</th>\n",
              "      <td>4</td>\n",
              "      <td>Training_85932660.jpg</td>\n",
              "      <td>None</td>\n",
              "      <td>596</td>\n",
              "      <td>4</td>\n",
              "    </tr>\n",
              "    <tr>\n",
              "      <th>59</th>\n",
              "      <td>4</td>\n",
              "      <td>Training_1204614.jpg</td>\n",
              "      <td>None</td>\n",
              "      <td>426</td>\n",
              "      <td>21</td>\n",
              "    </tr>\n",
              "    <tr>\n",
              "      <th>60</th>\n",
              "      <td>4</td>\n",
              "      <td>Training_15524948.jpg</td>\n",
              "      <td>None</td>\n",
              "      <td>100</td>\n",
              "      <td>8</td>\n",
              "    </tr>\n",
              "    <tr>\n",
              "      <th>61</th>\n",
              "      <td>4</td>\n",
              "      <td>Training_57944429.jpg</td>\n",
              "      <td>None</td>\n",
              "      <td>477</td>\n",
              "      <td>13</td>\n",
              "    </tr>\n",
              "    <tr>\n",
              "      <th>82</th>\n",
              "      <td>5</td>\n",
              "      <td>Training_81192903.jpg</td>\n",
              "      <td>Barco Pirata Misterioso</td>\n",
              "      <td>&lt;NA&gt;</td>\n",
              "      <td>12</td>\n",
              "    </tr>\n",
              "    <tr>\n",
              "      <th>...</th>\n",
              "      <td>...</td>\n",
              "      <td>...</td>\n",
              "      <td>...</td>\n",
              "      <td>...</td>\n",
              "      <td>...</td>\n",
              "    </tr>\n",
              "    <tr>\n",
              "      <th>35801</th>\n",
              "      <td>1735</td>\n",
              "      <td>PublicTest_62426646.jpg</td>\n",
              "      <td>None</td>\n",
              "      <td>108</td>\n",
              "      <td>13</td>\n",
              "    </tr>\n",
              "    <tr>\n",
              "      <th>35815</th>\n",
              "      <td>1741</td>\n",
              "      <td>PrivateTest_23030368.jpg</td>\n",
              "      <td>None</td>\n",
              "      <td>404</td>\n",
              "      <td>11</td>\n",
              "    </tr>\n",
              "    <tr>\n",
              "      <th>35828</th>\n",
              "      <td>1749</td>\n",
              "      <td>PrivateTest_93071746.jpg</td>\n",
              "      <td>None</td>\n",
              "      <td>80</td>\n",
              "      <td>18</td>\n",
              "    </tr>\n",
              "    <tr>\n",
              "      <th>35860</th>\n",
              "      <td>1768</td>\n",
              "      <td>PublicTest_93328347.jpg</td>\n",
              "      <td>None</td>\n",
              "      <td>562</td>\n",
              "      <td>13</td>\n",
              "    </tr>\n",
              "    <tr>\n",
              "      <th>35886</th>\n",
              "      <td>1787</td>\n",
              "      <td>PublicTest_94828377.jpg</td>\n",
              "      <td>None</td>\n",
              "      <td>417</td>\n",
              "      <td>13</td>\n",
              "    </tr>\n",
              "  </tbody>\n",
              "</table>\n",
              "<p>1230 rows × 5 columns</p>\n",
              "</div>"
            ],
            "text/plain": [
              "      id_visitante                      t_id                atraccion  \\\n",
              "56               4     Training_85932660.jpg                     None   \n",
              "59               4      Training_1204614.jpg                     None   \n",
              "60               4     Training_15524948.jpg                     None   \n",
              "61               4     Training_57944429.jpg                     None   \n",
              "82               5     Training_81192903.jpg  Barco Pirata Misterioso   \n",
              "...            ...                       ...                      ...   \n",
              "35801         1735   PublicTest_62426646.jpg                     None   \n",
              "35815         1741  PrivateTest_23030368.jpg                     None   \n",
              "35828         1749  PrivateTest_93071746.jpg                     None   \n",
              "35860         1768   PublicTest_93328347.jpg                     None   \n",
              "35886         1787   PublicTest_94828377.jpg                     None   \n",
              "\n",
              "       comienzo_atraccion  tiempo_de_espera  \n",
              "56                    596                 4  \n",
              "59                    426                21  \n",
              "60                    100                 8  \n",
              "61                    477                13  \n",
              "82                   <NA>                12  \n",
              "...                   ...               ...  \n",
              "35801                 108                13  \n",
              "35815                 404                11  \n",
              "35828                  80                18  \n",
              "35860                 562                13  \n",
              "35886                 417                13  \n",
              "\n",
              "[1230 rows x 5 columns]"
            ]
          },
          "execution_count": 22,
          "metadata": {},
          "output_type": "execute_result"
        }
      ],
      "source": [
        "#hay que mirar los nulos y cuanto representan del total\n",
        "filas_con_nulos = df_atracciones[df_atracciones.isnull().any(axis=1)]\n",
        "df_nulo_atracciones=pd.DataFrame(filas_con_nulos)\n",
        "df_nulo_atracciones\n",
        "#Hay fotos tomadas pero no sabemos en qué atracción las hicieron.¿Qué hacemos con esos datos?"
      ]
    },
    {
      "cell_type": "code",
      "execution_count": 23,
      "metadata": {},
      "outputs": [],
      "source": [
        "df_nulo_atracciones.to_csv('nulos_atracciones.csv', index=False)"
      ]
    },
    {
      "cell_type": "markdown",
      "metadata": {
        "id": "_4SVpspvLM3J"
      },
      "source": [
        "#Archivo valoraciones"
      ]
    },
    {
      "cell_type": "code",
      "execution_count": 4,
      "metadata": {
        "id": "grOUIpnS3oFN"
      },
      "outputs": [],
      "source": [
        "#lo abrimos\n",
        "with open ('/Users/h.adrianzabaletahernandez/Desktop/ReconocimientoDeEmociones/data/valoraciones.json') as f:\n",
        "    data_valoraciones= json.load(f)"
      ]
    },
    {
      "cell_type": "code",
      "execution_count": 5,
      "metadata": {
        "id": "X1-TRbTkl2MD"
      },
      "outputs": [],
      "source": [
        "#Convierto el json en una serie que luego transformo en un df. Esto es más fácil que hacerlo en varios pasos.\n",
        "df_valoraciones=pd.DataFrame(pd.Series(data_valoraciones), columns=['valoracion'])"
      ]
    },
    {
      "cell_type": "code",
      "execution_count": 7,
      "metadata": {},
      "outputs": [
        {
          "data": {
            "text/html": [
              "<div>\n",
              "<style scoped>\n",
              "    .dataframe tbody tr th:only-of-type {\n",
              "        vertical-align: middle;\n",
              "    }\n",
              "\n",
              "    .dataframe tbody tr th {\n",
              "        vertical-align: top;\n",
              "    }\n",
              "\n",
              "    .dataframe thead th {\n",
              "        text-align: right;\n",
              "    }\n",
              "</style>\n",
              "<table border=\"1\" class=\"dataframe\">\n",
              "  <thead>\n",
              "    <tr style=\"text-align: right;\">\n",
              "      <th></th>\n",
              "      <th>index</th>\n",
              "      <th>valoracion</th>\n",
              "    </tr>\n",
              "  </thead>\n",
              "  <tbody>\n",
              "    <tr>\n",
              "      <th>0</th>\n",
              "      <td>Training_10118481.jpg</td>\n",
              "      <td>2</td>\n",
              "    </tr>\n",
              "    <tr>\n",
              "      <th>1</th>\n",
              "      <td>Training_10120469.jpg</td>\n",
              "      <td>6</td>\n",
              "    </tr>\n",
              "    <tr>\n",
              "      <th>2</th>\n",
              "      <td>Training_10131352.jpg</td>\n",
              "      <td>0</td>\n",
              "    </tr>\n",
              "    <tr>\n",
              "      <th>3</th>\n",
              "      <td>Training_10161559.jpg</td>\n",
              "      <td>4</td>\n",
              "    </tr>\n",
              "    <tr>\n",
              "      <th>4</th>\n",
              "      <td>Training_1021836.jpg</td>\n",
              "      <td>6</td>\n",
              "    </tr>\n",
              "    <tr>\n",
              "      <th>...</th>\n",
              "      <td>...</td>\n",
              "      <td>...</td>\n",
              "    </tr>\n",
              "    <tr>\n",
              "      <th>35880</th>\n",
              "      <td>PublicTest_98089595.jpg</td>\n",
              "      <td>2</td>\n",
              "    </tr>\n",
              "    <tr>\n",
              "      <th>35881</th>\n",
              "      <td>PublicTest_98567249.jpg</td>\n",
              "      <td>7</td>\n",
              "    </tr>\n",
              "    <tr>\n",
              "      <th>35882</th>\n",
              "      <td>PublicTest_98972870.jpg</td>\n",
              "      <td>10</td>\n",
              "    </tr>\n",
              "    <tr>\n",
              "      <th>35883</th>\n",
              "      <td>PublicTest_99242645.jpg</td>\n",
              "      <td>5</td>\n",
              "    </tr>\n",
              "    <tr>\n",
              "      <th>35884</th>\n",
              "      <td>PublicTest_99446963.jpg</td>\n",
              "      <td>0</td>\n",
              "    </tr>\n",
              "  </tbody>\n",
              "</table>\n",
              "<p>35885 rows × 2 columns</p>\n",
              "</div>"
            ],
            "text/plain": [
              "                         index  valoracion\n",
              "0        Training_10118481.jpg           2\n",
              "1        Training_10120469.jpg           6\n",
              "2        Training_10131352.jpg           0\n",
              "3        Training_10161559.jpg           4\n",
              "4         Training_1021836.jpg           6\n",
              "...                        ...         ...\n",
              "35880  PublicTest_98089595.jpg           2\n",
              "35881  PublicTest_98567249.jpg           7\n",
              "35882  PublicTest_98972870.jpg          10\n",
              "35883  PublicTest_99242645.jpg           5\n",
              "35884  PublicTest_99446963.jpg           0\n",
              "\n",
              "[35885 rows x 2 columns]"
            ]
          },
          "execution_count": 7,
          "metadata": {},
          "output_type": "execute_result"
        }
      ],
      "source": [
        "df_valoraciones.reset_index()"
      ]
    },
    {
      "cell_type": "code",
      "execution_count": 8,
      "metadata": {},
      "outputs": [],
      "source": [
        "df_valoraciones.to_csv('valoraciones.csv', index=False)"
      ]
    },
    {
      "cell_type": "code",
      "execution_count": 32,
      "metadata": {},
      "outputs": [],
      "source": [
        "#transformamos el tipo de dato de valoración de object a int \n",
        "df_valoraciones['valoracion']=df_valoraciones['valoracion'].astype('Int64')"
      ]
    },
    {
      "cell_type": "code",
      "execution_count": 33,
      "metadata": {
        "colab": {
          "base_uri": "https://localhost:8080/"
        },
        "id": "6ChLGMCqm3we",
        "outputId": "24a09a8d-0e17-4a08-f484-795632cf64b0"
      },
      "outputs": [
        {
          "data": {
            "text/plain": [
              "valoracion    0\n",
              "dtype: int64"
            ]
          },
          "execution_count": 33,
          "metadata": {},
          "output_type": "execute_result"
        }
      ],
      "source": [
        "df_valoraciones.isnull().sum()"
      ]
    },
    {
      "cell_type": "markdown",
      "metadata": {
        "id": "Ely6HC3uLTkk"
      },
      "source": [
        "#Archivo emoción\n",
        "\n",
        "Estructura de los datos:\n",
        "\n",
        "\"Training_10118481.jpg\": {\"t_id\": \"Training_10118481.jpg\", \"emocion\": \"angry\", \"tiempo_recogida\": 291}"
      ]
    },
    {
      "cell_type": "code",
      "execution_count": 27,
      "metadata": {
        "id": "t9XTGUZk6H5K"
      },
      "outputs": [],
      "source": [
        "#lo abrimos\n",
        "with open ('/Users/h.adrianzabaletahernandez/Desktop/ReconocimientoDeEmociones/data/emocion.json') as f:\n",
        "    data_emocion= json.load(f)"
      ]
    },
    {
      "cell_type": "code",
      "execution_count": 28,
      "metadata": {
        "id": "zqcUo-UzzoEn"
      },
      "outputs": [],
      "source": [
        "#Este archivo es una lista cuyos elementos son diccionario (difiere de los otros archivos y no podemos aplicar el mismo método). \n",
        "#Sacaremos los elementos en listas separadas y haremos luego el df.\n",
        "fotos=[]\n",
        "t_ids=[]\n",
        "emociones=[]\n",
        "tiempos_recogida=[]\n",
        "#Este bucle itera sobre cada par clave-valor en el diccionario data_emocion utilizando el método .items(), \n",
        "#que devuelve una lista de tuplas, cada una conteniendo una clave y su valor correspondiente (que en este caso es otro diccionario).\n",
        "for clave, diccionario in data_emocion.items():\n",
        "    fotos.append(clave)\n",
        "    t_ids.append(diccionario['t_id'])\n",
        "    emociones.append(diccionario['emocion'])\n",
        "    tiempos_recogida.append(diccionario['tiempo_recogida'])\n",
        "\n",
        "#ASÍ FUNCIONA \n",
        "#fotos.append(clave): añade la clave (nombre de la foto) a la lista fotos.\n",
        "#t_ids.append(diccionario['t_id']): accede al valor asociado con la clave 't_id' en el diccionario diccionario y lo añade a la lista t_ids.\n",
        "#emociones.append(diccionario['emocion']): similar a lo anterior, extrae la emoción asociada con la foto del diccionario y la añade a la lista emociones.\n",
        "#tiempos_recogida.append(diccionario['tiempo_recogida']): extrae el tiempo de recogida o timestamp del diccionario y lo añade a la lista tiempos_recogida."
      ]
    },
    {
      "cell_type": "code",
      "execution_count": 29,
      "metadata": {
        "colab": {
          "base_uri": "https://localhost:8080/",
          "height": 423
        },
        "id": "t2BLOU9cw2bO",
        "outputId": "077b2936-cb16-4f03-df7b-ac0383a68ce8"
      },
      "outputs": [
        {
          "data": {
            "text/html": [
              "<div>\n",
              "<style scoped>\n",
              "    .dataframe tbody tr th:only-of-type {\n",
              "        vertical-align: middle;\n",
              "    }\n",
              "\n",
              "    .dataframe tbody tr th {\n",
              "        vertical-align: top;\n",
              "    }\n",
              "\n",
              "    .dataframe thead th {\n",
              "        text-align: right;\n",
              "    }\n",
              "</style>\n",
              "<table border=\"1\" class=\"dataframe\">\n",
              "  <thead>\n",
              "    <tr style=\"text-align: right;\">\n",
              "      <th></th>\n",
              "      <th>t_id</th>\n",
              "      <th>emocion</th>\n",
              "      <th>tiempo</th>\n",
              "    </tr>\n",
              "  </thead>\n",
              "  <tbody>\n",
              "    <tr>\n",
              "      <th>0</th>\n",
              "      <td>Training_10118481.jpg</td>\n",
              "      <td>angry</td>\n",
              "      <td>291</td>\n",
              "    </tr>\n",
              "    <tr>\n",
              "      <th>1</th>\n",
              "      <td>Training_10120469.jpg</td>\n",
              "      <td>angry</td>\n",
              "      <td>425</td>\n",
              "    </tr>\n",
              "    <tr>\n",
              "      <th>2</th>\n",
              "      <td>Training_10131352.jpg</td>\n",
              "      <td>angry</td>\n",
              "      <td>499</td>\n",
              "    </tr>\n",
              "    <tr>\n",
              "      <th>3</th>\n",
              "      <td>Training_10161559.jpg</td>\n",
              "      <td>angry</td>\n",
              "      <td>715</td>\n",
              "    </tr>\n",
              "    <tr>\n",
              "      <th>4</th>\n",
              "      <td>Training_1021836.jpg</td>\n",
              "      <td>angry</td>\n",
              "      <td>301</td>\n",
              "    </tr>\n",
              "    <tr>\n",
              "      <th>...</th>\n",
              "      <td>...</td>\n",
              "      <td>...</td>\n",
              "      <td>...</td>\n",
              "    </tr>\n",
              "    <tr>\n",
              "      <th>35880</th>\n",
              "      <td>PublicTest_98089595.jpg</td>\n",
              "      <td>surprise</td>\n",
              "      <td>469</td>\n",
              "    </tr>\n",
              "    <tr>\n",
              "      <th>35881</th>\n",
              "      <td>PublicTest_98567249.jpg</td>\n",
              "      <td>surprise</td>\n",
              "      <td>299</td>\n",
              "    </tr>\n",
              "    <tr>\n",
              "      <th>35882</th>\n",
              "      <td>PublicTest_98972870.jpg</td>\n",
              "      <td>surprise</td>\n",
              "      <td>255</td>\n",
              "    </tr>\n",
              "    <tr>\n",
              "      <th>35883</th>\n",
              "      <td>PublicTest_99242645.jpg</td>\n",
              "      <td>surprise</td>\n",
              "      <td>573</td>\n",
              "    </tr>\n",
              "    <tr>\n",
              "      <th>35884</th>\n",
              "      <td>PublicTest_99446963.jpg</td>\n",
              "      <td>surprise</td>\n",
              "      <td>466</td>\n",
              "    </tr>\n",
              "  </tbody>\n",
              "</table>\n",
              "<p>35885 rows × 3 columns</p>\n",
              "</div>"
            ],
            "text/plain": [
              "                          t_id   emocion  tiempo\n",
              "0        Training_10118481.jpg     angry     291\n",
              "1        Training_10120469.jpg     angry     425\n",
              "2        Training_10131352.jpg     angry     499\n",
              "3        Training_10161559.jpg     angry     715\n",
              "4         Training_1021836.jpg     angry     301\n",
              "...                        ...       ...     ...\n",
              "35880  PublicTest_98089595.jpg  surprise     469\n",
              "35881  PublicTest_98567249.jpg  surprise     299\n",
              "35882  PublicTest_98972870.jpg  surprise     255\n",
              "35883  PublicTest_99242645.jpg  surprise     573\n",
              "35884  PublicTest_99446963.jpg  surprise     466\n",
              "\n",
              "[35885 rows x 3 columns]"
            ]
          },
          "execution_count": 29,
          "metadata": {},
          "output_type": "execute_result"
        }
      ],
      "source": [
        "df_emocion=pd.DataFrame({'t_id':t_ids,\n",
        "                        'emocion':emociones,\n",
        "                        'tiempo':tiempos_recogida})\n",
        "df_emocion"
      ]
    },
    {
      "cell_type": "code",
      "execution_count": 30,
      "metadata": {},
      "outputs": [],
      "source": [
        "df_emocion.to_csv('emocion.csv', index=False)"
      ]
    }
  ],
  "metadata": {
    "colab": {
      "collapsed_sections": [
        "lVieVefYrvnK",
        "WUCEP5nm9LGJ"
      ],
      "provenance": [],
      "toc_visible": true
    },
    "kernelspec": {
      "display_name": "Python 3",
      "name": "python3"
    },
    "language_info": {
      "codemirror_mode": {
        "name": "ipython",
        "version": 3
      },
      "file_extension": ".py",
      "mimetype": "text/x-python",
      "name": "python",
      "nbconvert_exporter": "python",
      "pygments_lexer": "ipython3",
      "version": "3.12.1"
    }
  },
  "nbformat": 4,
  "nbformat_minor": 0
}
